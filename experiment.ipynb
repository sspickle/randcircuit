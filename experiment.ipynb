{
 "cells": [
  {
   "cell_type": "code",
   "execution_count": 1,
   "metadata": {},
   "outputs": [
    {
     "data": {
      "text/html": [
       "<div id=\"glowscript\" class=\"glowscript\"></div>"
      ],
      "text/plain": [
       "<IPython.core.display.HTML object>"
      ]
     },
     "metadata": {},
     "output_type": "display_data"
    },
    {
     "data": {
      "application/javascript": [
       "if (typeof Jupyter !== \"undefined\") { window.__context = { glowscript_container: $(\"#glowscript\").removeAttr(\"id\")};}else{ element.textContent = ' ';}"
      ],
      "text/plain": [
       "<IPython.core.display.Javascript object>"
      ]
     },
     "metadata": {},
     "output_type": "display_data"
    }
   ],
   "source": [
    "import tikz as tz\n",
    "import random\n",
    "from randresist import getRandomResistor"
   ]
  },
  {
   "cell_type": "code",
   "execution_count": 125,
   "metadata": {},
   "outputs": [],
   "source": [
    "minVal='minVal'\n",
    "maxVal='maxVal'\n",
    "fmt='fmt'\n",
    "name='name'\n",
    "symbol='symbol'\n",
    "value='value'\n",
    "\n",
    "componentList = [{name:'resistor', symbol:'R', minVal:1, maxVal:18, fmt:r\"{:3.1f}<\\ohm>\"},\n",
    "                {name:'Vsrc',symbol:'V', minVal:5, maxVal:15, fmt:\"{:3.1f}\"},\n",
    "                {name:'Isrc',symbol:'I', minVal:1, maxVal:8, fmt:\"{:3.1f}\"},\n",
    "                {name:'wire',symbol:'--'}]\n",
    "\n",
    "pDict = {'R':0.5, 'V':0.05, 'I':0.05, '--':0.2}\n",
    "\n",
    "cDict = {c[symbol]:c for c in componentList}\n",
    "cDict['']={}\n",
    "\n",
    "def randomElement(pDict=pDict):\n",
    "    \"\"\"\n",
    "    return random key using \n",
    "    \"\"\"\n",
    "    element = random.choices(*list(zip(*pDict.items())))[0]\n",
    "    comp = cDict[element]\n",
    "    if element == 'R':\n",
    "        val = comp[fmt].format(getRandomResistor(comp[minVal],comp[maxVal]))\n",
    "    elif element == '--':\n",
    "        val = ''\n",
    "    else:\n",
    "        val = comp[fmt].format(random.uniform(comp[minVal],comp[maxVal]))\n",
    "    return {symbol:element, value: val }\n",
    "\n",
    "def grid(n, m, components=cDict, weights=pDict):\n",
    "    \"\"\"\n",
    "    generate a grid with n (rows) x m (columns) meshes\n",
    "    \"\"\"\n",
    "    cells = []\n",
    "    for i in range(n+1):\n",
    "        row = []\n",
    "        cells.append(row)\n",
    "        for j in range(m+1):\n",
    "            ruComponent = randomElement()\n",
    "            rlComponent = randomElement()\n",
    "            if i==n:\n",
    "                # last row\n",
    "                if j==m:\n",
    "                    # last col\n",
    "                    row.append({})\n",
    "                else:\n",
    "                    row.append({'l':ruComponent})\n",
    "            elif j==m:\n",
    "                # last col, not last row\n",
    "                row.append({'u':rlComponent})\n",
    "            else:\n",
    "                row.append({'l':rlComponent,'u':ruComponent})\n",
    "            \n",
    "\n",
    "    return cells"
   ]
  },
  {
   "cell_type": "code",
   "execution_count": 126,
   "metadata": {},
   "outputs": [],
   "source": [
    "def drawElement(pic, i, j, ip, jp, element):\n",
    "    if element[symbol] in ['V','I','R']:\n",
    "        pic.draw((i,j),tz.lineto((ip,jp),op='to [{}, l^={}]'.format(element[symbol],element[value])))\n",
    "    else:\n",
    "        pic.draw((i,j),element[symbol],(ip,jp))\n",
    "\n",
    "def createCircuitGrid(grid,scale=2):\n",
    "    \"\"\"\n",
    "    grid is a rectangular array of circuit elements\n",
    "    \"\"\"\n",
    "    pic = tz.Picture(scale=scale, tempdir='.', cache=False)\n",
    "    pic.add_preamble(r'\\usepackage[american, siunitx]{circuitikz}')\n",
    "\n",
    "    for i in range(len(grid)):\n",
    "        for j in range(len(grid[0])):\n",
    "            uelement = grid[i][j].get('u')\n",
    "            lelement = grid[i][j].get('l')\n",
    "            if uelement:\n",
    "                drawElement(pic, i, j, i+1, j, uelement)\n",
    "            if lelement:\n",
    "                drawElement(pic, i, j, i, j+1, lelement)\n",
    "    return pic\n",
    "    "
   ]
  },
  {
   "cell_type": "code",
   "execution_count": 132,
   "metadata": {},
   "outputs": [
    {
     "data": {
      "text/html": [
       "<div style=\"background-color:#e0e0e0;margin:0\">\n",
       "  <div>\n",
       "    <div style=\"padding:10px;float:left\">      <img src=\"data:image/png;base64,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\">\n",
       "    </div>\n",
       "    <pre\n",
       "        style=\"width:47%;margin:0;padding:10px;float:right;white-space:pre-wrap;font-size:smaller\"\n",
       "        >\\begin{tikzpicture}[scale=2]\n",
       "\\draw (0,0) to [R, l^=13.0&lt;\\ohm&gt;] (1,0);\n",
       "\\draw (0,0) -- (0,1);\n",
       "\\draw (0,1) to [V, l^=12.4] (1,1);\n",
       "\\draw (0,1) -- (0,2);\n",
       "\\draw (0,2) to [V, l^=9.6] (1,2);\n",
       "\\draw (1,0) to [R, l^=1.0&lt;\\ohm&gt;] (2,0);\n",
       "\\draw (1,0) to [V, l^=12.7] (1,1);\n",
       "\\draw (1,1) to [R, l^=1.5&lt;\\ohm&gt;] (2,1);\n",
       "\\draw (1,1) to [R, l^=3.9&lt;\\ohm&gt;] (1,2);\n",
       "\\draw (1,2) to [R, l^=1.1&lt;\\ohm&gt;] (2,2);\n",
       "\\draw (2,0) -- (2,1);\n",
       "\\draw (2,1) to [R, l^=12.0&lt;\\ohm&gt;] (2,2);\n",
       "\\end{tikzpicture}</pre>\n",
       "  </div>\n",
       "  <div style=\"clear:both\"></div>\n",
       "</div>"
      ],
      "text/plain": [
       "<IPython.core.display.HTML object>"
      ]
     },
     "metadata": {},
     "output_type": "display_data"
    }
   ],
   "source": [
    "pic = createCircuitGrid(grid(2,2))\n",
    "pic.demo()"
   ]
  },
  {
   "cell_type": "code",
   "execution_count": null,
   "metadata": {},
   "outputs": [],
   "source": []
  }
 ],
 "metadata": {
  "kernelspec": {
   "display_name": "Python 3",
   "language": "python",
   "name": "python3"
  },
  "language_info": {
   "codemirror_mode": {
    "name": "ipython",
    "version": 3
   },
   "file_extension": ".py",
   "mimetype": "text/x-python",
   "name": "python",
   "nbconvert_exporter": "python",
   "pygments_lexer": "ipython3",
   "version": "3.8.5"
  }
 },
 "nbformat": 4,
 "nbformat_minor": 4
}
